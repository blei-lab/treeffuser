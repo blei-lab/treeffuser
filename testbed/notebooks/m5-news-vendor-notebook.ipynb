{
 "cells": [
  {
   "cell_type": "code",
   "execution_count": 3,
   "metadata": {
    "ExecuteTime": {
     "end_time": "2024-05-19T06:10:47.646685Z",
     "start_time": "2024-05-19T06:10:47.623787Z"
    }
   },
   "outputs": [
    {
     "name": "stdout",
     "output_type": "stream",
     "text": [
      "The autoreload extension is already loaded. To reload it, use:\n",
      "  %reload_ext autoreload\n"
     ]
    }
   ],
   "source": [
    "import lightgbm\n",
    "import pandas as pd\n",
    "import numpy as np\n",
    "\n",
    "from pathlib import Path\n",
    "from tqdm import tqdm\n",
    "import pickle as pkl\n",
    "\n",
    "from testbed.models.ngboost import NGBoostGaussian, NGBoostMixtureGaussian\n",
    "from testbed.models.treeffuser import Treeffuser\n",
    "\n",
    "from functools import partial\n",
    "\n",
    "from jaxtyping import Float, Array\n",
    "from typing import List, Callable\n",
    "\n",
    "import seaborn as sns\n",
    "import matplotlib.pyplot as plt\n",
    "from testbed.metrics.log_likelihood import LogLikelihoodFromSamplesMetric\n",
    "\n",
    "path = \"../src/testbed/data/m5\"\n",
    "\n",
    "# load autoreload extension\n",
    "%load_ext autoreload\n",
    "%autoreload 2"
   ]
  },
  {
   "cell_type": "code",
   "execution_count": 4,
   "metadata": {
    "ExecuteTime": {
     "end_time": "2024-05-19T06:10:47.900356Z",
     "start_time": "2024-05-19T06:10:47.872757Z"
    }
   },
   "outputs": [],
   "source": [
    "# These are config variables\n",
    "\n",
    "PROCESS_FROM_SCRATCH = True\n",
    "USE_SUBSET = True\n",
    "CONTEXT_LENGTH = 20\n",
    "RUN_DEPRECATED = False"
   ]
  },
  {
   "cell_type": "code",
   "execution_count": 5,
   "metadata": {
    "ExecuteTime": {
     "end_time": "2024-05-19T06:10:50.397292Z",
     "start_time": "2024-05-19T06:10:47.991190Z"
    }
   },
   "outputs": [
    {
     "name": "stdout",
     "output_type": "stream",
     "text": [
      "\n",
      "columns of sell_prices_df:\n",
      "store_id\n",
      "item_id\n",
      "wm_yr_wk\n",
      "sell_price\n",
      "\n",
      "columns of sales_train_validation_df:\n",
      "id\n",
      "item_id\n",
      "dept_id\n",
      "cat_id\n",
      "store_id\n",
      "state_id\n",
      "\n",
      "columns of calendar_df:\n",
      "date\n",
      "wm_yr_wk\n",
      "weekday\n",
      "wday\n",
      "month\n",
      "year\n",
      "d\n",
      "event_name_1\n",
      "event_type_1\n",
      "event_name_2\n",
      "event_type_2\n",
      "snap_CA\n",
      "snap_TX\n",
      "snap_WI\n",
      "number of zeros in sales_train_validation_df:  39777094\n"
     ]
    }
   ],
   "source": [
    "# READ IN DATA\n",
    "\n",
    "sell_prices_df = pd.read_csv(Path(path) / \"sell_prices.csv\")\n",
    "sales_train_validation_df = pd.read_csv(Path(path) / \"sales_train_validation.csv\")\n",
    "calendar_df = pd.read_csv(Path(path) / \"calendar.csv\")\n",
    "\n",
    "print(\"\\ncolumns of sell_prices_df:\")\n",
    "[print(col) for col in sell_prices_df.columns]\n",
    "print(\"\\ncolumns of sales_train_validation_df:\")\n",
    "[print(col) for col in sales_train_validation_df.columns if not col.startswith(\"d_\")]\n",
    "print(\"\\ncolumns of calendar_df:\") # ommit d_1, d_2, ..., d_1913\n",
    "[print(col) for col in calendar_df.columns if not col.startswith(\"d_\")]\n",
    "\n",
    "\"\"\n",
    "\n",
    "# print number of zeros\n",
    "print(\"number of zeros in sales_train_validation_df: \", (sales_train_validation_df == 0).sum().sum())"
   ]
  },
  {
   "cell_type": "code",
   "execution_count": 6,
   "metadata": {
    "ExecuteTime": {
     "end_time": "2024-05-19T06:10:50.555822Z",
     "start_time": "2024-05-19T06:10:50.397771Z"
    }
   },
   "outputs": [
    {
     "name": "stdout",
     "output_type": "stream",
     "text": [
      "number of zeros in sales_train_validation_df: 39777094 out of 58327370 entries\n",
      "percentage of zeros in sales_train_validation_df: 68.20%\n"
     ]
    }
   ],
   "source": [
    "items_sold_cols = sales_train_validation_df.columns[sales_train_validation_df.columns.str.startswith(\"d_\")]\n",
    "num_zeros = (sales_train_validation_df[items_sold_cols] == 0).sum().sum()\n",
    "total_entries = sales_train_validation_df[items_sold_cols].shape[0] * sales_train_validation_df[items_sold_cols].shape[1]\n",
    "\n",
    "print(f\"number of zeros in sales_train_validation_df: {num_zeros} out of {total_entries} entries\")\n",
    "print(f\"percentage of zeros in sales_train_validation_df: {num_zeros / total_entries * 100:.2f}%\")"
   ]
  },
  {
   "cell_type": "code",
   "execution_count": 7,
   "metadata": {
    "ExecuteTime": {
     "end_time": "2024-05-19T06:10:50.587789Z",
     "start_time": "2024-05-19T06:10:50.556291Z"
    }
   },
   "outputs": [],
   "source": [
    "# add explicit columns for the day, month, year for ease of processing\n",
    "calendar_df[\"date\"] = pd.to_datetime(calendar_df[\"date\"])\n",
    "calendar_df[\"day\"] = calendar_df[\"date\"].dt.day\n",
    "calendar_df[\"month\"] = calendar_df[\"date\"].dt.month\n",
    "calendar_df[\"year\"] = calendar_df[\"date\"].dt.year\n"
   ]
  },
  {
   "cell_type": "markdown",
   "metadata": {},
   "source": [
    "# Brief snapshots of the dataset"
   ]
  },
  {
   "cell_type": "code",
   "execution_count": 8,
   "metadata": {
    "ExecuteTime": {
     "end_time": "2024-05-19T06:10:50.605199Z",
     "start_time": "2024-05-19T06:10:50.577389Z"
    }
   },
   "outputs": [
    {
     "data": {
      "text/plain": "        date  wm_yr_wk    weekday  wday  month  year    d event_name_1  \\\n0 2011-01-29     11101   Saturday     1      1  2011  d_1          NaN   \n1 2011-01-30     11101     Sunday     2      1  2011  d_2          NaN   \n2 2011-01-31     11101     Monday     3      1  2011  d_3          NaN   \n3 2011-02-01     11101    Tuesday     4      2  2011  d_4          NaN   \n4 2011-02-02     11101  Wednesday     5      2  2011  d_5          NaN   \n\n  event_type_1 event_name_2 event_type_2  snap_CA  snap_TX  snap_WI  day  \n0          NaN          NaN          NaN        0        0        0   29  \n1          NaN          NaN          NaN        0        0        0   30  \n2          NaN          NaN          NaN        0        0        0   31  \n3          NaN          NaN          NaN        1        1        0    1  \n4          NaN          NaN          NaN        1        0        1    2  ",
      "text/html": "<div>\n<style scoped>\n    .dataframe tbody tr th:only-of-type {\n        vertical-align: middle;\n    }\n\n    .dataframe tbody tr th {\n        vertical-align: top;\n    }\n\n    .dataframe thead th {\n        text-align: right;\n    }\n</style>\n<table border=\"1\" class=\"dataframe\">\n  <thead>\n    <tr style=\"text-align: right;\">\n      <th></th>\n      <th>date</th>\n      <th>wm_yr_wk</th>\n      <th>weekday</th>\n      <th>wday</th>\n      <th>month</th>\n      <th>year</th>\n      <th>d</th>\n      <th>event_name_1</th>\n      <th>event_type_1</th>\n      <th>event_name_2</th>\n      <th>event_type_2</th>\n      <th>snap_CA</th>\n      <th>snap_TX</th>\n      <th>snap_WI</th>\n      <th>day</th>\n    </tr>\n  </thead>\n  <tbody>\n    <tr>\n      <th>0</th>\n      <td>2011-01-29</td>\n      <td>11101</td>\n      <td>Saturday</td>\n      <td>1</td>\n      <td>1</td>\n      <td>2011</td>\n      <td>d_1</td>\n      <td>NaN</td>\n      <td>NaN</td>\n      <td>NaN</td>\n      <td>NaN</td>\n      <td>0</td>\n      <td>0</td>\n      <td>0</td>\n      <td>29</td>\n    </tr>\n    <tr>\n      <th>1</th>\n      <td>2011-01-30</td>\n      <td>11101</td>\n      <td>Sunday</td>\n      <td>2</td>\n      <td>1</td>\n      <td>2011</td>\n      <td>d_2</td>\n      <td>NaN</td>\n      <td>NaN</td>\n      <td>NaN</td>\n      <td>NaN</td>\n      <td>0</td>\n      <td>0</td>\n      <td>0</td>\n      <td>30</td>\n    </tr>\n    <tr>\n      <th>2</th>\n      <td>2011-01-31</td>\n      <td>11101</td>\n      <td>Monday</td>\n      <td>3</td>\n      <td>1</td>\n      <td>2011</td>\n      <td>d_3</td>\n      <td>NaN</td>\n      <td>NaN</td>\n      <td>NaN</td>\n      <td>NaN</td>\n      <td>0</td>\n      <td>0</td>\n      <td>0</td>\n      <td>31</td>\n    </tr>\n    <tr>\n      <th>3</th>\n      <td>2011-02-01</td>\n      <td>11101</td>\n      <td>Tuesday</td>\n      <td>4</td>\n      <td>2</td>\n      <td>2011</td>\n      <td>d_4</td>\n      <td>NaN</td>\n      <td>NaN</td>\n      <td>NaN</td>\n      <td>NaN</td>\n      <td>1</td>\n      <td>1</td>\n      <td>0</td>\n      <td>1</td>\n    </tr>\n    <tr>\n      <th>4</th>\n      <td>2011-02-02</td>\n      <td>11101</td>\n      <td>Wednesday</td>\n      <td>5</td>\n      <td>2</td>\n      <td>2011</td>\n      <td>d_5</td>\n      <td>NaN</td>\n      <td>NaN</td>\n      <td>NaN</td>\n      <td>NaN</td>\n      <td>1</td>\n      <td>0</td>\n      <td>1</td>\n      <td>2</td>\n    </tr>\n  </tbody>\n</table>\n</div>"
     },
     "execution_count": 8,
     "metadata": {},
     "output_type": "execute_result"
    }
   ],
   "source": [
    "calendar_df.head()"
   ]
  },
  {
   "cell_type": "code",
   "execution_count": 9,
   "metadata": {
    "ExecuteTime": {
     "end_time": "2024-05-19T06:10:50.635566Z",
     "start_time": "2024-05-19T06:10:50.598863Z"
    }
   },
   "outputs": [
    {
     "data": {
      "text/plain": "                              id        item_id    dept_id   cat_id store_id  \\\n0  HOBBIES_1_001_CA_1_validation  HOBBIES_1_001  HOBBIES_1  HOBBIES     CA_1   \n1  HOBBIES_1_002_CA_1_validation  HOBBIES_1_002  HOBBIES_1  HOBBIES     CA_1   \n2  HOBBIES_1_003_CA_1_validation  HOBBIES_1_003  HOBBIES_1  HOBBIES     CA_1   \n3  HOBBIES_1_004_CA_1_validation  HOBBIES_1_004  HOBBIES_1  HOBBIES     CA_1   \n4  HOBBIES_1_005_CA_1_validation  HOBBIES_1_005  HOBBIES_1  HOBBIES     CA_1   \n5  HOBBIES_1_006_CA_1_validation  HOBBIES_1_006  HOBBIES_1  HOBBIES     CA_1   \n6  HOBBIES_1_007_CA_1_validation  HOBBIES_1_007  HOBBIES_1  HOBBIES     CA_1   \n7  HOBBIES_1_008_CA_1_validation  HOBBIES_1_008  HOBBIES_1  HOBBIES     CA_1   \n8  HOBBIES_1_009_CA_1_validation  HOBBIES_1_009  HOBBIES_1  HOBBIES     CA_1   \n9  HOBBIES_1_010_CA_1_validation  HOBBIES_1_010  HOBBIES_1  HOBBIES     CA_1   \n\n  state_id  d_1  d_2  d_3  d_4  d_5  d_6  d_7  d_8  d_9  d_10  d_11  d_12  \\\n0       CA    0    0    0    0    0    0    0    0    0     0     0     0   \n1       CA    0    0    0    0    0    0    0    0    0     0     0     0   \n2       CA    0    0    0    0    0    0    0    0    0     0     0     0   \n3       CA    0    0    0    0    0    0    0    0    0     0     0     0   \n4       CA    0    0    0    0    0    0    0    0    0     0     0     0   \n5       CA    0    0    0    0    0    0    0    0    0     0     0     0   \n6       CA    0    0    0    0    0    0    0    0    0     0     0     0   \n7       CA   12   15    0    0    0    4    6    5    7     0    13     2   \n8       CA    2    0    7    3    0    2    3    9    0     0     4     3   \n9       CA    0    0    1    0    0    0    0    0    0     0     0     0   \n\n   d_13  d_14  \n0     0     0  \n1     0     0  \n2     0     0  \n3     0     0  \n4     0     0  \n5     0     0  \n6     0     0  \n7     2    20  \n8     1     0  \n9     0     2  ",
      "text/html": "<div>\n<style scoped>\n    .dataframe tbody tr th:only-of-type {\n        vertical-align: middle;\n    }\n\n    .dataframe tbody tr th {\n        vertical-align: top;\n    }\n\n    .dataframe thead th {\n        text-align: right;\n    }\n</style>\n<table border=\"1\" class=\"dataframe\">\n  <thead>\n    <tr style=\"text-align: right;\">\n      <th></th>\n      <th>id</th>\n      <th>item_id</th>\n      <th>dept_id</th>\n      <th>cat_id</th>\n      <th>store_id</th>\n      <th>state_id</th>\n      <th>d_1</th>\n      <th>d_2</th>\n      <th>d_3</th>\n      <th>d_4</th>\n      <th>d_5</th>\n      <th>d_6</th>\n      <th>d_7</th>\n      <th>d_8</th>\n      <th>d_9</th>\n      <th>d_10</th>\n      <th>d_11</th>\n      <th>d_12</th>\n      <th>d_13</th>\n      <th>d_14</th>\n    </tr>\n  </thead>\n  <tbody>\n    <tr>\n      <th>0</th>\n      <td>HOBBIES_1_001_CA_1_validation</td>\n      <td>HOBBIES_1_001</td>\n      <td>HOBBIES_1</td>\n      <td>HOBBIES</td>\n      <td>CA_1</td>\n      <td>CA</td>\n      <td>0</td>\n      <td>0</td>\n      <td>0</td>\n      <td>0</td>\n      <td>0</td>\n      <td>0</td>\n      <td>0</td>\n      <td>0</td>\n      <td>0</td>\n      <td>0</td>\n      <td>0</td>\n      <td>0</td>\n      <td>0</td>\n      <td>0</td>\n    </tr>\n    <tr>\n      <th>1</th>\n      <td>HOBBIES_1_002_CA_1_validation</td>\n      <td>HOBBIES_1_002</td>\n      <td>HOBBIES_1</td>\n      <td>HOBBIES</td>\n      <td>CA_1</td>\n      <td>CA</td>\n      <td>0</td>\n      <td>0</td>\n      <td>0</td>\n      <td>0</td>\n      <td>0</td>\n      <td>0</td>\n      <td>0</td>\n      <td>0</td>\n      <td>0</td>\n      <td>0</td>\n      <td>0</td>\n      <td>0</td>\n      <td>0</td>\n      <td>0</td>\n    </tr>\n    <tr>\n      <th>2</th>\n      <td>HOBBIES_1_003_CA_1_validation</td>\n      <td>HOBBIES_1_003</td>\n      <td>HOBBIES_1</td>\n      <td>HOBBIES</td>\n      <td>CA_1</td>\n      <td>CA</td>\n      <td>0</td>\n      <td>0</td>\n      <td>0</td>\n      <td>0</td>\n      <td>0</td>\n      <td>0</td>\n      <td>0</td>\n      <td>0</td>\n      <td>0</td>\n      <td>0</td>\n      <td>0</td>\n      <td>0</td>\n      <td>0</td>\n      <td>0</td>\n    </tr>\n    <tr>\n      <th>3</th>\n      <td>HOBBIES_1_004_CA_1_validation</td>\n      <td>HOBBIES_1_004</td>\n      <td>HOBBIES_1</td>\n      <td>HOBBIES</td>\n      <td>CA_1</td>\n      <td>CA</td>\n      <td>0</td>\n      <td>0</td>\n      <td>0</td>\n      <td>0</td>\n      <td>0</td>\n      <td>0</td>\n      <td>0</td>\n      <td>0</td>\n      <td>0</td>\n      <td>0</td>\n      <td>0</td>\n      <td>0</td>\n      <td>0</td>\n      <td>0</td>\n    </tr>\n    <tr>\n      <th>4</th>\n      <td>HOBBIES_1_005_CA_1_validation</td>\n      <td>HOBBIES_1_005</td>\n      <td>HOBBIES_1</td>\n      <td>HOBBIES</td>\n      <td>CA_1</td>\n      <td>CA</td>\n      <td>0</td>\n      <td>0</td>\n      <td>0</td>\n      <td>0</td>\n      <td>0</td>\n      <td>0</td>\n      <td>0</td>\n      <td>0</td>\n      <td>0</td>\n      <td>0</td>\n      <td>0</td>\n      <td>0</td>\n      <td>0</td>\n      <td>0</td>\n    </tr>\n    <tr>\n      <th>5</th>\n      <td>HOBBIES_1_006_CA_1_validation</td>\n      <td>HOBBIES_1_006</td>\n      <td>HOBBIES_1</td>\n      <td>HOBBIES</td>\n      <td>CA_1</td>\n      <td>CA</td>\n      <td>0</td>\n      <td>0</td>\n      <td>0</td>\n      <td>0</td>\n      <td>0</td>\n      <td>0</td>\n      <td>0</td>\n      <td>0</td>\n      <td>0</td>\n      <td>0</td>\n      <td>0</td>\n      <td>0</td>\n      <td>0</td>\n      <td>0</td>\n    </tr>\n    <tr>\n      <th>6</th>\n      <td>HOBBIES_1_007_CA_1_validation</td>\n      <td>HOBBIES_1_007</td>\n      <td>HOBBIES_1</td>\n      <td>HOBBIES</td>\n      <td>CA_1</td>\n      <td>CA</td>\n      <td>0</td>\n      <td>0</td>\n      <td>0</td>\n      <td>0</td>\n      <td>0</td>\n      <td>0</td>\n      <td>0</td>\n      <td>0</td>\n      <td>0</td>\n      <td>0</td>\n      <td>0</td>\n      <td>0</td>\n      <td>0</td>\n      <td>0</td>\n    </tr>\n    <tr>\n      <th>7</th>\n      <td>HOBBIES_1_008_CA_1_validation</td>\n      <td>HOBBIES_1_008</td>\n      <td>HOBBIES_1</td>\n      <td>HOBBIES</td>\n      <td>CA_1</td>\n      <td>CA</td>\n      <td>12</td>\n      <td>15</td>\n      <td>0</td>\n      <td>0</td>\n      <td>0</td>\n      <td>4</td>\n      <td>6</td>\n      <td>5</td>\n      <td>7</td>\n      <td>0</td>\n      <td>13</td>\n      <td>2</td>\n      <td>2</td>\n      <td>20</td>\n    </tr>\n    <tr>\n      <th>8</th>\n      <td>HOBBIES_1_009_CA_1_validation</td>\n      <td>HOBBIES_1_009</td>\n      <td>HOBBIES_1</td>\n      <td>HOBBIES</td>\n      <td>CA_1</td>\n      <td>CA</td>\n      <td>2</td>\n      <td>0</td>\n      <td>7</td>\n      <td>3</td>\n      <td>0</td>\n      <td>2</td>\n      <td>3</td>\n      <td>9</td>\n      <td>0</td>\n      <td>0</td>\n      <td>4</td>\n      <td>3</td>\n      <td>1</td>\n      <td>0</td>\n    </tr>\n    <tr>\n      <th>9</th>\n      <td>HOBBIES_1_010_CA_1_validation</td>\n      <td>HOBBIES_1_010</td>\n      <td>HOBBIES_1</td>\n      <td>HOBBIES</td>\n      <td>CA_1</td>\n      <td>CA</td>\n      <td>0</td>\n      <td>0</td>\n      <td>1</td>\n      <td>0</td>\n      <td>0</td>\n      <td>0</td>\n      <td>0</td>\n      <td>0</td>\n      <td>0</td>\n      <td>0</td>\n      <td>0</td>\n      <td>0</td>\n      <td>0</td>\n      <td>2</td>\n    </tr>\n  </tbody>\n</table>\n</div>"
     },
     "execution_count": 9,
     "metadata": {},
     "output_type": "execute_result"
    }
   ],
   "source": [
    "sales_train_validation_df.iloc[:10, :20]"
   ]
  },
  {
   "cell_type": "code",
   "outputs": [
    {
     "data": {
      "text/plain": "(30490, 1919)"
     },
     "execution_count": 10,
     "metadata": {},
     "output_type": "execute_result"
    }
   ],
   "source": [
    "sales_train_validation_df.shape"
   ],
   "metadata": {
    "collapsed": false,
    "ExecuteTime": {
     "end_time": "2024-05-19T06:10:50.664532Z",
     "start_time": "2024-05-19T06:10:50.621975Z"
    }
   },
   "execution_count": 10
  },
  {
   "cell_type": "code",
   "execution_count": 11,
   "metadata": {
    "ExecuteTime": {
     "end_time": "2024-05-19T06:10:50.680896Z",
     "start_time": "2024-05-19T06:10:50.641291Z"
    }
   },
   "outputs": [
    {
     "data": {
      "text/plain": "  store_id        item_id  wm_yr_wk  sell_price\n0     CA_1  HOBBIES_1_001     11325        9.58\n1     CA_1  HOBBIES_1_001     11326        9.58\n2     CA_1  HOBBIES_1_001     11327        8.26\n3     CA_1  HOBBIES_1_001     11328        8.26\n4     CA_1  HOBBIES_1_001     11329        8.26",
      "text/html": "<div>\n<style scoped>\n    .dataframe tbody tr th:only-of-type {\n        vertical-align: middle;\n    }\n\n    .dataframe tbody tr th {\n        vertical-align: top;\n    }\n\n    .dataframe thead th {\n        text-align: right;\n    }\n</style>\n<table border=\"1\" class=\"dataframe\">\n  <thead>\n    <tr style=\"text-align: right;\">\n      <th></th>\n      <th>store_id</th>\n      <th>item_id</th>\n      <th>wm_yr_wk</th>\n      <th>sell_price</th>\n    </tr>\n  </thead>\n  <tbody>\n    <tr>\n      <th>0</th>\n      <td>CA_1</td>\n      <td>HOBBIES_1_001</td>\n      <td>11325</td>\n      <td>9.58</td>\n    </tr>\n    <tr>\n      <th>1</th>\n      <td>CA_1</td>\n      <td>HOBBIES_1_001</td>\n      <td>11326</td>\n      <td>9.58</td>\n    </tr>\n    <tr>\n      <th>2</th>\n      <td>CA_1</td>\n      <td>HOBBIES_1_001</td>\n      <td>11327</td>\n      <td>8.26</td>\n    </tr>\n    <tr>\n      <th>3</th>\n      <td>CA_1</td>\n      <td>HOBBIES_1_001</td>\n      <td>11328</td>\n      <td>8.26</td>\n    </tr>\n    <tr>\n      <th>4</th>\n      <td>CA_1</td>\n      <td>HOBBIES_1_001</td>\n      <td>11329</td>\n      <td>8.26</td>\n    </tr>\n  </tbody>\n</table>\n</div>"
     },
     "execution_count": 11,
     "metadata": {},
     "output_type": "execute_result"
    }
   ],
   "source": [
    "sell_prices_df.head()"
   ]
  },
  {
   "cell_type": "markdown",
   "metadata": {},
   "source": [
    "# Process the data"
   ]
  },
  {
   "cell_type": "code",
   "execution_count": 12,
   "metadata": {
    "ExecuteTime": {
     "end_time": "2024-05-19T06:10:50.822018Z",
     "start_time": "2024-05-19T06:10:50.662348Z"
    }
   },
   "outputs": [],
   "source": [
    "TOTAL_ITEMS = 1_000\n",
    "# select a random subset of items\n",
    "if USE_SUBSET:\n",
    "    np.random.seed(0)\n",
    "    unique_ids = sales_train_validation_df[\"id\"].unique()\n",
    "    ids = np.random.choice(sales_train_validation_df[\"id\"].unique(), TOTAL_ITEMS, replace=False)\n",
    "    sales_train_validation_df_sub = sales_train_validation_df[sales_train_validation_df[\"id\"].isin(ids)]\n",
    "    item_ids = sales_train_validation_df_sub[\"item_id\"].unique()\n",
    "    sell_prices_df_sub = sell_prices_df[sell_prices_df[\"item_id\"].isin(item_ids)]\n",
    "    calendar_df_sub = calendar_df\n",
    "\n",
    "\n",
    "\n"
   ]
  },
  {
   "cell_type": "markdown",
   "metadata": {},
   "source": [
    "columns_sales_train_validation.head)"
   ]
  },
  {
   "cell_type": "markdown",
   "metadata": {},
   "source": [
    "The strategy for processing the data is going to be the following. 1) We are going to have X and y where y is the next days sales for a given product. 3) X is made up of 10 previous prices, day of the week, + event types, cat_id, store_id, state_id"
   ]
  },
  {
   "cell_type": "code",
   "execution_count": 13,
   "metadata": {
    "ExecuteTime": {
     "end_time": "2024-05-19T06:10:50.851541Z",
     "start_time": "2024-05-19T06:10:50.821026Z"
    }
   },
   "outputs": [],
   "source": [
    "def proc_train_test(sales_train_validation_df: pd.DataFrame, calendar_df: pd.DataFrame, sell_prices_df: pd.DataFrame, context_length: int, test_days, percentage_omittied: int = 0): #type annotation too long\n",
    "    \"\"\"\n",
    "    This function processes the data and returns the training and test data in two ways:\n",
    "    - undifferentiated: a list of all training and test data (X_train, y_train, X_test, y_test)\n",
    "    - differentiated: a list of training and test data for each product (X_train_prod, y_train_prod, X_test_prod, y_test_prod)\n",
    "        where X_train_prod[i] contains a list of all X_train values for the product i with similar grouping for y_train_prod and test\n",
    "\n",
    "    This assumes from the dataframes that\n",
    "    - sales_train_validation_df:\n",
    "        - has columns with the format d_1, d_2, ...\n",
    "        - has columns item_id and store_id\n",
    "    - calendar_df:\n",
    "        - wday, month, event_name_1, event_name_2\n",
    "    - sell_prices_df:\n",
    "        - item_id, store_id, sell_price\n",
    "\n",
    "    - percentage_omittied: percentage of the data to be omitted from the training data and the test data\n",
    "        (randomly selected)\n",
    "\n",
    "    Returns:\n",
    "    - undifferentiated: Tuple of X_train, y_train, X_test, y_test\n",
    "    - differentiated: Tuple of X_train_prod, y_train_prod, X_test_prod, y_test_prod\n",
    "    \"\"\"\n",
    "    np.random.seed(0)\n",
    "    # First we need to get the training data\n",
    "    # We will use the first 1913 days as training data and the next\n",
    "\n",
    "    X_train = []\n",
    "    y_train = []\n",
    "\n",
    "    X_test = []\n",
    "    y_test = []\n",
    "\n",
    "    # We will also return a second grouping of lists where X_train_prod[i] contains a\n",
    "    # a list of all X_train values for the product i with similar grouping for y_train_prod and test\n",
    "    X_train_prod = []\n",
    "    y_train_prod = []\n",
    "    X_test_prod = []\n",
    "    y_test_prod = []\n",
    "\n",
    "\n",
    "    # get all days that start with d_ and look for the maximum\n",
    "    total_days = max([int(x.split(\"_\")[1]) for x in sales_train_validation_df.columns if \"d_\" in x])\n",
    "    train_days = total_days - test_days\n",
    "    print(\"train days\", train_days)\n",
    "    print(\"test days\", total_days - train_days)\n",
    "    print(\"total days\", total_days)\n",
    "\n",
    "    # Precompute the required data\n",
    "    calendar_df_dict = calendar_df.set_index(\"d\").to_dict(orient=\"index\")\n",
    "    sell_prices_dict = sell_prices_df.groupby([\"item_id\", \"store_id\"])[\"sell_price\"].first().to_dict()\n",
    "\n",
    "    pbar = tqdm(total=len(sales_train_validation_df))\n",
    "    for _, row in sales_train_validation_df.iterrows():\n",
    "        item_id = row[\"item_id\"]\n",
    "        store_id = row[\"store_id\"]\n",
    "\n",
    "        X_train_prod.append([])\n",
    "        y_train_prod.append([])\n",
    "        X_test_prod.append([])\n",
    "        y_test_prod.append([])\n",
    "\n",
    "        pbar.update(1)\n",
    "\n",
    "        valid_size = int((train_days - context_length) * (1 - percentage_omittied))\n",
    "        valid_js = np.random.choice(range(1, train_days - context_length), valid_size, replace=False)\n",
    "\n",
    "        valid_js = list(valid_js) + list(range(train_days - context_length, total_days - context_length))\n",
    "\n",
    "        for j in valid_js:\n",
    "            x = []\n",
    "\n",
    "            # Add sales values for the previous context_length days\n",
    "            x.extend(row[f\"d_{j+k}\"] for k in range(context_length))\n",
    "\n",
    "            # Add additional features\n",
    "            current_day = f\"d_{j+context_length}\"\n",
    "            calendar_data = calendar_df_dict[current_day]\n",
    "            x.extend([\n",
    "                calendar_data[\"wday\"],\n",
    "                calendar_data[\"month\"],\n",
    "                store_id,\n",
    "                calendar_data[\"event_name_1\"],\n",
    "                calendar_data[\"event_name_2\"],\n",
    "                sell_prices_dict[(item_id, store_id)],\n",
    "                item_id,\n",
    "                j + context_length\n",
    "            ])\n",
    "\n",
    "            if j < train_days:\n",
    "                X_train.append(x)\n",
    "                y_train.append(row[current_day])\n",
    "                X_train_prod[-1].append(x)\n",
    "                y_train_prod[-1].append(row[current_day])\n",
    "\n",
    "            else:\n",
    "                X_test.append(x)\n",
    "                y_test.append(row[current_day])\n",
    "                X_train_prod[-1].append(x)\n",
    "                y_train_prod[-1].append(row[current_day])\n",
    "\n",
    "    undifferentiated = (X_train, y_train, X_test, y_test)\n",
    "    differentiated = (X_train_prod, y_train_prod, X_test_prod, y_test_prod)\n",
    "    return undifferentiated, differentiated"
   ]
  },
  {
   "cell_type": "code",
   "execution_count": 14,
   "metadata": {
    "ExecuteTime": {
     "end_time": "2024-05-19T06:10:52.003190Z",
     "start_time": "2024-05-19T06:10:50.844703Z"
    }
   },
   "outputs": [
    {
     "name": "stdout",
     "output_type": "stream",
     "text": [
      "train days 1883\n",
      "test days 30\n",
      "total days 1913\n"
     ]
    },
    {
     "name": "stderr",
     "output_type": "stream",
     "text": [
      "100%|██████████| 1000/1000 [00:01<00:00, 999.40it/s]\n"
     ]
    }
   ],
   "source": [
    "if PROCESS_FROM_SCRATCH:\n",
    "    undifferentiated, differentiated = proc_train_test(sales_train_validation_df_sub, calendar_df, sell_prices_df_sub, CONTEXT_LENGTH, 30, 0.99)\n",
    "    X_train, y_train, X_test, y_test = undifferentiated\n",
    "    X_train_prod, y_train_prod, X_test_prod, y_test_prod = differentiated\n"
   ]
  },
  {
   "cell_type": "code",
   "execution_count": 15,
   "metadata": {
    "ExecuteTime": {
     "end_time": "2024-05-19T06:10:52.026219Z",
     "start_time": "2024-05-19T06:10:52.002945Z"
    }
   },
   "outputs": [
    {
     "data": {
      "text/plain": "(38000, 38000, 10000, 10000)"
     },
     "execution_count": 15,
     "metadata": {},
     "output_type": "execute_result"
    }
   ],
   "source": [
    "len(X_train), len(y_train), len(X_test), len(y_test)"
   ]
  },
  {
   "cell_type": "code",
   "execution_count": 16,
   "metadata": {
    "ExecuteTime": {
     "end_time": "2024-05-19T06:10:52.056988Z",
     "start_time": "2024-05-19T06:10:52.033312Z"
    }
   },
   "outputs": [],
   "source": [
    "COL_NAMES = [\n",
    "    f\"day_{i}\" for i in range(1, CONTEXT_LENGTH+1)\n",
    "] + [\"wday\", \"month\", \"store_id\", \"event_name_1\", \"event_name_2\", \"sell_price\", \"item_id\", \"day\"]\n",
    "\n",
    "CAT_COLS = [\"store_id\", \"event_name_1\", \"event_name_2\", \"item_id\", \"wday\", \"month\"]\n",
    "CAT_COLS_IDX = [COL_NAMES.index(col) for col in CAT_COLS]\n"
   ]
  },
  {
   "cell_type": "code",
   "execution_count": 17,
   "metadata": {
    "ExecuteTime": {
     "end_time": "2024-05-19T06:10:52.210572Z",
     "start_time": "2024-05-19T06:10:52.047918Z"
    }
   },
   "outputs": [],
   "source": [
    "X_train_df = pd.DataFrame(X_train)\n",
    "X_test_df = pd.DataFrame(X_test)\n",
    "y_test_df = pd.DataFrame(y_test)\n",
    "y_train_df = pd.DataFrame(y_train)\n",
    "\n",
    "X_train_df.columns = COL_NAMES\n",
    "X_test_df.columns = COL_NAMES"
   ]
  },
  {
   "cell_type": "code",
   "execution_count": 18,
   "metadata": {
    "ExecuteTime": {
     "end_time": "2024-05-19T06:10:52.256377Z",
     "start_time": "2024-05-19T06:10:52.209579Z"
    }
   },
   "outputs": [
    {
     "data": {
      "text/plain": "       day_1  day_2  day_3  day_4  day_5  day_6  day_7  day_8  day_9  day_10  \\\n0          8      3      4      2      5      2      4      5      9       2   \n1          0      0      0      0      0      0      0      0      0       0   \n2          0      0      1     17     10      7      6      8      8       0   \n3          0     14      2      0      1      5     15      0      2       0   \n4          0      0      0      0      0      0      0      0      0       0   \n...      ...    ...    ...    ...    ...    ...    ...    ...    ...     ...   \n37995      4      2      0      5      3      2      0      5      7       3   \n37996      2      0      5      3      2      0      5      7      3       1   \n37997      0      5      3      2      0      5      7      3      1       4   \n37998      5      3      2      0      5      7      3      1      4       3   \n37999      3      2      0      5      7      3      1      4      3       3   \n\n       ...  day_19  day_20  wday  month  store_id  event_name_1  event_name_2  \\\n0      ...      13      12     6      6      CA_1           NaN           NaN   \n1      ...       0       0     6      6      CA_1           NaN           NaN   \n2      ...       2      15     1      7      CA_1           NaN           NaN   \n3      ...       5       3     2      6      CA_1           NaN           NaN   \n4      ...       0       0     4      4      CA_1           NaN           NaN   \n...    ...     ...     ...   ...    ...       ...           ...           ...   \n37995  ...       0       0     1      4      WI_3           NaN           NaN   \n37996  ...       0       1     2      4      WI_3           NaN           NaN   \n37997  ...       1       0     3      4      WI_3           NaN           NaN   \n37998  ...       0       0     4      4      WI_3           NaN           NaN   \n37999  ...       0       0     5      4      WI_3           NaN           NaN   \n\n       sell_price        item_id   day  \n0             0.5  HOBBIES_1_019  1245  \n1             0.5  HOBBIES_1_019   496  \n2             0.5  HOBBIES_1_019  1625  \n3             0.5  HOBBIES_1_019  1220  \n4             0.5  HOBBIES_1_019    74  \n...           ...            ...   ...  \n37995         1.0    FOODS_3_827  1898  \n37996         1.0    FOODS_3_827  1899  \n37997         1.0    FOODS_3_827  1900  \n37998         1.0    FOODS_3_827  1901  \n37999         1.0    FOODS_3_827  1902  \n\n[38000 rows x 28 columns]",
      "text/html": "<div>\n<style scoped>\n    .dataframe tbody tr th:only-of-type {\n        vertical-align: middle;\n    }\n\n    .dataframe tbody tr th {\n        vertical-align: top;\n    }\n\n    .dataframe thead th {\n        text-align: right;\n    }\n</style>\n<table border=\"1\" class=\"dataframe\">\n  <thead>\n    <tr style=\"text-align: right;\">\n      <th></th>\n      <th>day_1</th>\n      <th>day_2</th>\n      <th>day_3</th>\n      <th>day_4</th>\n      <th>day_5</th>\n      <th>day_6</th>\n      <th>day_7</th>\n      <th>day_8</th>\n      <th>day_9</th>\n      <th>day_10</th>\n      <th>...</th>\n      <th>day_19</th>\n      <th>day_20</th>\n      <th>wday</th>\n      <th>month</th>\n      <th>store_id</th>\n      <th>event_name_1</th>\n      <th>event_name_2</th>\n      <th>sell_price</th>\n      <th>item_id</th>\n      <th>day</th>\n    </tr>\n  </thead>\n  <tbody>\n    <tr>\n      <th>0</th>\n      <td>8</td>\n      <td>3</td>\n      <td>4</td>\n      <td>2</td>\n      <td>5</td>\n      <td>2</td>\n      <td>4</td>\n      <td>5</td>\n      <td>9</td>\n      <td>2</td>\n      <td>...</td>\n      <td>13</td>\n      <td>12</td>\n      <td>6</td>\n      <td>6</td>\n      <td>CA_1</td>\n      <td>NaN</td>\n      <td>NaN</td>\n      <td>0.5</td>\n      <td>HOBBIES_1_019</td>\n      <td>1245</td>\n    </tr>\n    <tr>\n      <th>1</th>\n      <td>0</td>\n      <td>0</td>\n      <td>0</td>\n      <td>0</td>\n      <td>0</td>\n      <td>0</td>\n      <td>0</td>\n      <td>0</td>\n      <td>0</td>\n      <td>0</td>\n      <td>...</td>\n      <td>0</td>\n      <td>0</td>\n      <td>6</td>\n      <td>6</td>\n      <td>CA_1</td>\n      <td>NaN</td>\n      <td>NaN</td>\n      <td>0.5</td>\n      <td>HOBBIES_1_019</td>\n      <td>496</td>\n    </tr>\n    <tr>\n      <th>2</th>\n      <td>0</td>\n      <td>0</td>\n      <td>1</td>\n      <td>17</td>\n      <td>10</td>\n      <td>7</td>\n      <td>6</td>\n      <td>8</td>\n      <td>8</td>\n      <td>0</td>\n      <td>...</td>\n      <td>2</td>\n      <td>15</td>\n      <td>1</td>\n      <td>7</td>\n      <td>CA_1</td>\n      <td>NaN</td>\n      <td>NaN</td>\n      <td>0.5</td>\n      <td>HOBBIES_1_019</td>\n      <td>1625</td>\n    </tr>\n    <tr>\n      <th>3</th>\n      <td>0</td>\n      <td>14</td>\n      <td>2</td>\n      <td>0</td>\n      <td>1</td>\n      <td>5</td>\n      <td>15</td>\n      <td>0</td>\n      <td>2</td>\n      <td>0</td>\n      <td>...</td>\n      <td>5</td>\n      <td>3</td>\n      <td>2</td>\n      <td>6</td>\n      <td>CA_1</td>\n      <td>NaN</td>\n      <td>NaN</td>\n      <td>0.5</td>\n      <td>HOBBIES_1_019</td>\n      <td>1220</td>\n    </tr>\n    <tr>\n      <th>4</th>\n      <td>0</td>\n      <td>0</td>\n      <td>0</td>\n      <td>0</td>\n      <td>0</td>\n      <td>0</td>\n      <td>0</td>\n      <td>0</td>\n      <td>0</td>\n      <td>0</td>\n      <td>...</td>\n      <td>0</td>\n      <td>0</td>\n      <td>4</td>\n      <td>4</td>\n      <td>CA_1</td>\n      <td>NaN</td>\n      <td>NaN</td>\n      <td>0.5</td>\n      <td>HOBBIES_1_019</td>\n      <td>74</td>\n    </tr>\n    <tr>\n      <th>...</th>\n      <td>...</td>\n      <td>...</td>\n      <td>...</td>\n      <td>...</td>\n      <td>...</td>\n      <td>...</td>\n      <td>...</td>\n      <td>...</td>\n      <td>...</td>\n      <td>...</td>\n      <td>...</td>\n      <td>...</td>\n      <td>...</td>\n      <td>...</td>\n      <td>...</td>\n      <td>...</td>\n      <td>...</td>\n      <td>...</td>\n      <td>...</td>\n      <td>...</td>\n      <td>...</td>\n    </tr>\n    <tr>\n      <th>37995</th>\n      <td>4</td>\n      <td>2</td>\n      <td>0</td>\n      <td>5</td>\n      <td>3</td>\n      <td>2</td>\n      <td>0</td>\n      <td>5</td>\n      <td>7</td>\n      <td>3</td>\n      <td>...</td>\n      <td>0</td>\n      <td>0</td>\n      <td>1</td>\n      <td>4</td>\n      <td>WI_3</td>\n      <td>NaN</td>\n      <td>NaN</td>\n      <td>1.0</td>\n      <td>FOODS_3_827</td>\n      <td>1898</td>\n    </tr>\n    <tr>\n      <th>37996</th>\n      <td>2</td>\n      <td>0</td>\n      <td>5</td>\n      <td>3</td>\n      <td>2</td>\n      <td>0</td>\n      <td>5</td>\n      <td>7</td>\n      <td>3</td>\n      <td>1</td>\n      <td>...</td>\n      <td>0</td>\n      <td>1</td>\n      <td>2</td>\n      <td>4</td>\n      <td>WI_3</td>\n      <td>NaN</td>\n      <td>NaN</td>\n      <td>1.0</td>\n      <td>FOODS_3_827</td>\n      <td>1899</td>\n    </tr>\n    <tr>\n      <th>37997</th>\n      <td>0</td>\n      <td>5</td>\n      <td>3</td>\n      <td>2</td>\n      <td>0</td>\n      <td>5</td>\n      <td>7</td>\n      <td>3</td>\n      <td>1</td>\n      <td>4</td>\n      <td>...</td>\n      <td>1</td>\n      <td>0</td>\n      <td>3</td>\n      <td>4</td>\n      <td>WI_3</td>\n      <td>NaN</td>\n      <td>NaN</td>\n      <td>1.0</td>\n      <td>FOODS_3_827</td>\n      <td>1900</td>\n    </tr>\n    <tr>\n      <th>37998</th>\n      <td>5</td>\n      <td>3</td>\n      <td>2</td>\n      <td>0</td>\n      <td>5</td>\n      <td>7</td>\n      <td>3</td>\n      <td>1</td>\n      <td>4</td>\n      <td>3</td>\n      <td>...</td>\n      <td>0</td>\n      <td>0</td>\n      <td>4</td>\n      <td>4</td>\n      <td>WI_3</td>\n      <td>NaN</td>\n      <td>NaN</td>\n      <td>1.0</td>\n      <td>FOODS_3_827</td>\n      <td>1901</td>\n    </tr>\n    <tr>\n      <th>37999</th>\n      <td>3</td>\n      <td>2</td>\n      <td>0</td>\n      <td>5</td>\n      <td>7</td>\n      <td>3</td>\n      <td>1</td>\n      <td>4</td>\n      <td>3</td>\n      <td>3</td>\n      <td>...</td>\n      <td>0</td>\n      <td>0</td>\n      <td>5</td>\n      <td>4</td>\n      <td>WI_3</td>\n      <td>NaN</td>\n      <td>NaN</td>\n      <td>1.0</td>\n      <td>FOODS_3_827</td>\n      <td>1902</td>\n    </tr>\n  </tbody>\n</table>\n<p>38000 rows × 28 columns</p>\n</div>"
     },
     "execution_count": 18,
     "metadata": {},
     "output_type": "execute_result"
    }
   ],
   "source": [
    "\n",
    "X_train_df"
   ]
  },
  {
   "cell_type": "code",
   "execution_count": 19,
   "metadata": {
    "ExecuteTime": {
     "end_time": "2024-05-19T06:10:53.875799Z",
     "start_time": "2024-05-19T06:10:52.255107Z"
    }
   },
   "outputs": [
    {
     "data": {
      "text/plain": "   day_1  day_2  day_3  day_4  day_5  day_6  day_7  day_8  day_9  day_10  ...  \\\n0      8      3      4      2      5      2      4      5      9       2  ...   \n1      0      0      0      0      0      0      0      0      0       0  ...   \n2      0      0      1     17     10      7      6      8      8       0  ...   \n3      0     14      2      0      1      5     15      0      2       0  ...   \n4      0      0      0      0      0      0      0      0      0       0  ...   \n\n   day_19  day_20  wday  month  store_id  event_name_1  event_name_2  \\\n0      13      12     5      5         0            30             4   \n1       0       0     5      5         0            30             4   \n2       2      15     0      6         0            30             4   \n3       5       3     1      5         0            30             4   \n4       0       0     3      3         0            30             4   \n\n   sell_price  item_id   day  \n0         0.5        0  1245  \n1         0.5        0   496  \n2         0.5        0  1625  \n3         0.5        0  1220  \n4         0.5        0    74  \n\n[5 rows x 28 columns]",
      "text/html": "<div>\n<style scoped>\n    .dataframe tbody tr th:only-of-type {\n        vertical-align: middle;\n    }\n\n    .dataframe tbody tr th {\n        vertical-align: top;\n    }\n\n    .dataframe thead th {\n        text-align: right;\n    }\n</style>\n<table border=\"1\" class=\"dataframe\">\n  <thead>\n    <tr style=\"text-align: right;\">\n      <th></th>\n      <th>day_1</th>\n      <th>day_2</th>\n      <th>day_3</th>\n      <th>day_4</th>\n      <th>day_5</th>\n      <th>day_6</th>\n      <th>day_7</th>\n      <th>day_8</th>\n      <th>day_9</th>\n      <th>day_10</th>\n      <th>...</th>\n      <th>day_19</th>\n      <th>day_20</th>\n      <th>wday</th>\n      <th>month</th>\n      <th>store_id</th>\n      <th>event_name_1</th>\n      <th>event_name_2</th>\n      <th>sell_price</th>\n      <th>item_id</th>\n      <th>day</th>\n    </tr>\n  </thead>\n  <tbody>\n    <tr>\n      <th>0</th>\n      <td>8</td>\n      <td>3</td>\n      <td>4</td>\n      <td>2</td>\n      <td>5</td>\n      <td>2</td>\n      <td>4</td>\n      <td>5</td>\n      <td>9</td>\n      <td>2</td>\n      <td>...</td>\n      <td>13</td>\n      <td>12</td>\n      <td>5</td>\n      <td>5</td>\n      <td>0</td>\n      <td>30</td>\n      <td>4</td>\n      <td>0.5</td>\n      <td>0</td>\n      <td>1245</td>\n    </tr>\n    <tr>\n      <th>1</th>\n      <td>0</td>\n      <td>0</td>\n      <td>0</td>\n      <td>0</td>\n      <td>0</td>\n      <td>0</td>\n      <td>0</td>\n      <td>0</td>\n      <td>0</td>\n      <td>0</td>\n      <td>...</td>\n      <td>0</td>\n      <td>0</td>\n      <td>5</td>\n      <td>5</td>\n      <td>0</td>\n      <td>30</td>\n      <td>4</td>\n      <td>0.5</td>\n      <td>0</td>\n      <td>496</td>\n    </tr>\n    <tr>\n      <th>2</th>\n      <td>0</td>\n      <td>0</td>\n      <td>1</td>\n      <td>17</td>\n      <td>10</td>\n      <td>7</td>\n      <td>6</td>\n      <td>8</td>\n      <td>8</td>\n      <td>0</td>\n      <td>...</td>\n      <td>2</td>\n      <td>15</td>\n      <td>0</td>\n      <td>6</td>\n      <td>0</td>\n      <td>30</td>\n      <td>4</td>\n      <td>0.5</td>\n      <td>0</td>\n      <td>1625</td>\n    </tr>\n    <tr>\n      <th>3</th>\n      <td>0</td>\n      <td>14</td>\n      <td>2</td>\n      <td>0</td>\n      <td>1</td>\n      <td>5</td>\n      <td>15</td>\n      <td>0</td>\n      <td>2</td>\n      <td>0</td>\n      <td>...</td>\n      <td>5</td>\n      <td>3</td>\n      <td>1</td>\n      <td>5</td>\n      <td>0</td>\n      <td>30</td>\n      <td>4</td>\n      <td>0.5</td>\n      <td>0</td>\n      <td>1220</td>\n    </tr>\n    <tr>\n      <th>4</th>\n      <td>0</td>\n      <td>0</td>\n      <td>0</td>\n      <td>0</td>\n      <td>0</td>\n      <td>0</td>\n      <td>0</td>\n      <td>0</td>\n      <td>0</td>\n      <td>0</td>\n      <td>...</td>\n      <td>0</td>\n      <td>0</td>\n      <td>3</td>\n      <td>3</td>\n      <td>0</td>\n      <td>30</td>\n      <td>4</td>\n      <td>0.5</td>\n      <td>0</td>\n      <td>74</td>\n    </tr>\n  </tbody>\n</table>\n<p>5 rows × 28 columns</p>\n</div>"
     },
     "execution_count": 19,
     "metadata": {},
     "output_type": "execute_result"
    }
   ],
   "source": [
    "# Encode the categorical columns as numbers\n",
    "from sklearn.preprocessing import LabelEncoder\n",
    "# Get only label of item_id\n",
    "X_train_df[\"item_id\"] = X_train_df[\"item_id\"].apply(lambda x: x.split(\"_\")[1])\n",
    "X_test_df[\"item_id\"] = X_test_df[\"item_id\"].apply(lambda x: x.split(\"_\")[1])\n",
    "\n",
    "\n",
    "label_encoders = {}\n",
    "for col in CAT_COLS:\n",
    "    le = LabelEncoder()\n",
    "    X_train_df[col] = le.fit_transform(X_train_df[col])\n",
    "    X_test_df[col] = le.transform(X_test_df[col])\n",
    "    label_encoders[col] = le\n",
    "\n",
    "\n",
    "X_train_prod_processed = []\n",
    "X_test_prod_processed = []\n",
    "for i in range(len(X_train_prod)):\n",
    "    X_train_prod_processed.append(pd.DataFrame(X_train_prod[i], columns=COL_NAMES))\n",
    "    X_test_prod_processed.append(pd.DataFrame(X_test_prod[i], columns=COL_NAMES))\n",
    "    X_train_prod_processed[-1][\"item_id\"] = X_train_prod_processed[-1][\"item_id\"].apply(lambda x: x.split(\"_\")[1])\n",
    "    X_test_prod_processed[-1][\"item_id\"] = X_test_prod_processed[-1][\"item_id\"].apply(lambda x: x.split(\"_\")[1])\n",
    "    for col in CAT_COLS:\n",
    "        X_train_prod_processed[-1][col] = label_encoders[col].transform(X_train_prod_processed[-1][col])\n",
    "        X_test_prod_processed[-1][col] = label_encoders[col].transform(X_test_prod_processed[-1][col])\n",
    "\n",
    "X_train_df.head()\n"
   ]
  },
  {
   "cell_type": "markdown",
   "metadata": {},
   "source": [
    "# PPC"
   ]
  },
  {
   "cell_type": "markdown",
   "metadata": {},
   "source": [
    "### \"Standard PPCs\""
   ]
  },
  {
   "cell_type": "code",
   "execution_count": 20,
   "metadata": {
    "ExecuteTime": {
     "end_time": "2024-05-19T06:10:53.905703Z",
     "start_time": "2024-05-19T06:10:53.877477Z"
    }
   },
   "outputs": [],
   "source": [
    "\n",
    "def max_ppc(y_true: Float[Array, \"batch y_dim\"], y_samples: Float[Array, \"samples batch y_dim\"], number=0, name=\"\") -> None:\n",
    "    # rpeat y_true to match the shape of y_samples\n",
    "    max_ppc = np.max(y_samples, axis=1)\n",
    "    true_max = np.max(y_true)\n",
    "\n",
    "    return max_ppc.flatten(), true_max.flatten(), \"max_ppc\"\n",
    "\n",
    "def quantile_ppc(y_true: Float[Array, \"batch y_dim\"], y_samples: Float[Array, \"samples batch y_dim\"], quantile=0.5, number=0, name=\"\") -> None:\n",
    "    # rpeat y_true to match the shape of y_samples\n",
    "    q = np.quantile(y_samples, quantile, axis=1)\n",
    "    true_q = np.quantile(y_true, quantile)\n",
    "    return q.flatten(), true_q.flatten(), f\"quantile_ppc_{quantile}\"\n",
    "\n",
    "def zeros(y_true: Float[Array, \"batch y_dim\"], y_samples: Float[Array, \"samples batch y_dim\"], number=0, name=\"\") -> None:\n",
    "    \"Count the number of zeros in the samples\"\n",
    "    zeros = np.sum(y_samples < 0.1, axis=1)\n",
    "    true_zeros = np.sum(y_true < 0.1)\n",
    "\n",
    "    return zeros.flatten(), true_zeros.flatten(), \"zeros\""
   ]
  },
  {
   "cell_type": "code",
   "execution_count": 21,
   "metadata": {
    "ExecuteTime": {
     "end_time": "2024-05-19T06:10:53.943735Z",
     "start_time": "2024-05-19T06:10:53.896414Z"
    }
   },
   "outputs": [],
   "source": [
    "def plot_ppcs(y_true: Float[Array, \"batch y_dim\"], y_samples: Float[Array, \"samples batch y_dim\"], ppcs: List[Callable],\n",
    "              number=0, name=\"\") -> None:\n",
    "    # plot the distribution of\n",
    "\n",
    "    for ppc in ppcs:\n",
    "        ppc(y_true, y_samples, number=number, name=name)"
   ]
  },
  {
   "cell_type": "markdown",
   "metadata": {},
   "source": [
    "### \"Complex PPCs\""
   ]
  },
  {
   "cell_type": "code",
   "execution_count": 22,
   "metadata": {
    "ExecuteTime": {
     "end_time": "2024-05-19T06:10:53.962498Z",
     "start_time": "2024-05-19T06:10:53.916644Z"
    }
   },
   "outputs": [],
   "source": [
    "\n",
    "def plot_model_comparisons(data, y_true, figsize=(12, 8), model_names=None):\n",
    "    \"\"\"\n",
    "    Plots model predictions against true values for each day.\n",
    "\n",
    "    :param data: numpy array of shape [models, samples, days] containing model predictions\n",
    "    :param y_true: array of shape [days] containing the true values\n",
    "    :param figsize: tuple indicating the size of the figure\n",
    "    \"\"\"\n",
    "    sns.set(style=\"whitegrid\")\n",
    "    models, samples, days = data.shape\n",
    "\n",
    "    # Create a figure and axis object\n",
    "    fig, ax = plt.subplots(figsize=figsize)\n",
    "\n",
    "    # We will transform the data to a format suitable for seaborn\n",
    "    # Create a DataFrame with model, day, and sample values\n",
    "    plot_data = []\n",
    "    if model_names is None:\n",
    "        model_names = [f\"Model {i}\" for i in range(models)]\n",
    "\n",
    "    for model_idx in range(models):\n",
    "        for day_idx in range(days):\n",
    "            for sample_idx in range(samples):\n",
    "                plot_data.append({\n",
    "                    \"Day\": day_idx,\n",
    "                    \"Value\": data[model_idx, sample_idx, day_idx],\n",
    "                    \"Model\": model_names[model_idx]\n",
    "                })\n",
    "\n",
    "    import pandas as pd\n",
    "    plot_data = pd.DataFrame(plot_data)\n",
    "\n",
    "    # Use seaborn to plot the boxplots\n",
    "    sns.boxplot(x=\"Day\", y=\"Value\", hue=\"Model\", data=plot_data, ax=ax, width=0.6)\n",
    "\n",
    "    # Plot true values\n",
    "    plt.plot(y_true, 'o', color='red', label='True Values')\n",
    "\n",
    "    # Setting labels and title\n",
    "    plt.xticks(ticks=np.arange(days), labels=[f\"Day {i+1}\" for i in range(days)])\n",
    "    plt.xlabel('Days')\n",
    "    plt.ylabel('Values')\n",
    "    plt.title('Model Predictions vs. True Values')\n",
    "    plt.legend()\n",
    "\n",
    "    # Show the plot\n",
    "    plt.show()\n",
    "\n",
    "\n",
    "\n",
    "\n",
    "\n"
   ]
  },
  {
   "cell_type": "markdown",
   "metadata": {},
   "source": [
    "# Model Evaluation"
   ]
  },
  {
   "cell_type": "code",
   "execution_count": 23,
   "metadata": {
    "ExecuteTime": {
     "end_time": "2024-05-19T06:10:53.964181Z",
     "start_time": "2024-05-19T06:10:53.935964Z"
    }
   },
   "outputs": [],
   "source": [
    "def save_results_to_pkl(results: dict, dir_name, name):\n",
    "    if not Path(dir_name).exists():\n",
    "        Path(dir_name).mkdir(parents=True)\n",
    "\n",
    "    path = Path(dir_name) / f\"{name}.pkl\"\n",
    "    with open(path, \"wb\") as f:\n",
    "        pkl.dump(results, f)\n",
    "\n",
    "\n",
    "def load_results_from_pkl(dir_name, name):\n",
    "    path = Path(dir_name) / f\"{name}.pkl\"\n",
    "    with open(path, \"rb\") as f:\n",
    "        results = pkl.load(f)\n",
    "    return results\n"
   ]
  },
  {
   "cell_type": "code",
   "execution_count": 24,
   "metadata": {
    "ExecuteTime": {
     "end_time": "2024-05-19T06:10:53.974684Z",
     "start_time": "2024-05-19T06:10:53.954672Z"
    }
   },
   "outputs": [],
   "source": [
    "# Simple helper function to train a model and plot ppcs\n",
    "\n",
    "def get_ppcs(y_samples, X_test, y_test, ppcs, number=0, name=\"\") -> None:\n",
    "    \"\"\"\n",
    "    Returns a dictionary with the samples and the true values for each ppc\n",
    "    the dictionary a\n",
    "    \"\"\"\n",
    "    y_samples = np.array(y_samples)\n",
    "    y_samples = np.maximum(y_samples, 0)\n",
    "    y_samples = np.round(y_samples, 0)\n",
    "\n",
    "    ppc_results = {}\n",
    "    for ppc in ppcs:\n",
    "        samples, true, name = ppc(y_test, y_samples, number=number, name=name)\n",
    "        ppc_results[name] = {\"samples\": samples, \"true\": true}\n",
    "\n",
    "    return ppc_results\n"
   ]
  },
  {
   "cell_type": "code",
   "execution_count": 25,
   "metadata": {
    "ExecuteTime": {
     "end_time": "2024-05-19T06:10:53.998677Z",
     "start_time": "2024-05-19T06:10:53.974193Z"
    }
   },
   "outputs": [
    {
     "name": "stdout",
     "output_type": "stream",
     "text": [
      "   day_1  day_2  day_3  day_4  day_5  day_6  day_7  day_8  day_9  day_10  ...  \\\n",
      "0      8      3      4      2      5      2      4      5      9       2  ...   \n",
      "1      0      0      0      0      0      0      0      0      0       0  ...   \n",
      "2      0      0      1     17     10      7      6      8      8       0  ...   \n",
      "3      0     14      2      0      1      5     15      0      2       0  ...   \n",
      "4      0      0      0      0      0      0      0      0      0       0  ...   \n",
      "\n",
      "   day_19  day_20  wday  month  store_id  event_name_1  event_name_2  \\\n",
      "0      13      12     5      5         0            30             4   \n",
      "1       0       0     5      5         0            30             4   \n",
      "2       2      15     0      6         0            30             4   \n",
      "3       5       3     1      5         0            30             4   \n",
      "4       0       0     3      3         0            30             4   \n",
      "\n",
      "   sell_price  item_id   day  \n",
      "0         0.5        0  1245  \n",
      "1         0.5        0   496  \n",
      "2         0.5        0  1625  \n",
      "3         0.5        0  1220  \n",
      "4         0.5        0    74  \n",
      "\n",
      "[5 rows x 28 columns]\n"
     ]
    }
   ],
   "source": [
    "print(X_train_df.head())"
   ]
  },
  {
   "cell_type": "markdown",
   "metadata": {},
   "source": [
    "# Achille! \n",
    "Behold! The day :)"
   ]
  },
  {
   "cell_type": "code",
   "outputs": [
    {
     "data": {
      "text/plain": "day\n1903    1000\n1904    1000\n1905    1000\n1906    1000\n1907    1000\n1908    1000\n1909    1000\n1910    1000\n1911    1000\n1912    1000\nName: count, dtype: int64"
     },
     "execution_count": 76,
     "metadata": {},
     "output_type": "execute_result"
    }
   ],
   "source": [
    "X_test_df[\"day\"].value_counts()"
   ],
   "metadata": {
    "collapsed": false,
    "ExecuteTime": {
     "end_time": "2024-05-19T21:12:49.931735Z",
     "start_time": "2024-05-19T21:12:49.898302Z"
    }
   },
   "execution_count": 76
  },
  {
   "cell_type": "code",
   "execution_count": 61,
   "metadata": {
    "ExecuteTime": {
     "end_time": "2024-05-19T06:33:05.868861Z",
     "start_time": "2024-05-19T06:33:05.840765Z"
    }
   },
   "outputs": [],
   "source": [
    "EVAL_VALUES = 10000 # How many test points to use\n",
    "np.random.seed(0)\n",
    "\n",
    "eval_idx = np.random.choice(len(X_test_df), EVAL_VALUES, replace=False)\n",
    "\n",
    "X_train_np = X_train_df.values[:, :-1]\n",
    "X_days_np = X_train_df[\"day\"].values\n",
    "X_test_np = X_test_df.values[eval_idx][:, :-1]\n",
    "X_test_days_np = X_test_df[\"day\"].values[eval_idx]\n",
    "X_test_df_sub = X_test_df.iloc[eval_idx]\n",
    "\n",
    "y_train_np = y_train_df.values\n",
    "y_test_np = y_test_df.values[eval_idx]\n",
    "\n",
    "# change to float to prevent errors\n",
    "y_train_np = y_train_np.astype(np.float32)\n",
    "y_test_np = y_test_np.astype(np.float32)\n"
   ]
  },
  {
   "cell_type": "code",
   "execution_count": 62,
   "metadata": {
    "ExecuteTime": {
     "end_time": "2024-05-19T06:35:17.007013Z",
     "start_time": "2024-05-19T06:33:10.620005Z"
    }
   },
   "outputs": [
    {
     "name": "stdout",
     "output_type": "stream",
     "text": [
      "Fitting model Treeffuser\n",
      "Fitting model NGBoostGaussian\n"
     ]
    },
    {
     "name": "stderr",
     "output_type": "stream",
     "text": [
      "/Users/achille/miniconda3/envs/treefuse/lib/python3.11/site-packages/ngboost/distns/normal.py:71: RuntimeWarning: overflow encountered in exp\n",
      "  self.scale = np.exp(params[1])\n",
      "/Users/achille/miniconda3/envs/treefuse/lib/python3.11/site-packages/ngboost/distns/normal.py:72: RuntimeWarning: overflow encountered in square\n",
      "  self.var = self.scale**2\n"
     ]
    },
    {
     "name": "stdout",
     "output_type": "stream",
     "text": [
      "Fitting model NGBoostPoisson\n",
      "Fitting model QuantileRegressionTree\n"
     ]
    },
    {
     "name": "stderr",
     "output_type": "stream",
     "text": [
      "/Users/achille/miniconda3/envs/treefuse/lib/python3.11/site-packages/lightgbm/basic.py:335: UserWarning: Converting column-vector to 1d array\n",
      "  _log_warning('Converting column-vector to 1d array')\n"
     ]
    },
    {
     "name": "stdout",
     "output_type": "stream",
     "text": [
      "[LightGBM] [Info] Using self-defined objective function\n",
      "Fitting model IBugXGBoost\n"
     ]
    },
    {
     "name": "stderr",
     "output_type": "stream",
     "text": [
      "/Users/achille/miniconda3/envs/treefuse/lib/python3.11/site-packages/joblib/externals/loky/process_executor.py:752: UserWarning: A worker stopped while some jobs were given to the executor. This can be caused by a too short worker timeout or by a memory leak.\n",
      "  warnings.warn(\n"
     ]
    }
   ],
   "source": [
    "from testbed.models.ngboost import NGBoostPoisson\n",
    "from testbed.models.quantile_regression import QuantileRegressionTree\n",
    "from testbed.models.ibug_ import IBugXGBoost\n",
    "from testbed.models.treeffuser import Treeffuser\n",
    "# from testbed.models.lightning_uq_models import DeepEnsemble\n",
    "\n",
    "\n",
    "MODEL_CLASSES = [Treeffuser, NGBoostGaussian, NGBoostPoisson, QuantileRegressionTree, IBugXGBoost]\n",
    "NAMES = [\"Treeffuser\", \"NGBoostGaussian\", \"NGBoostPoisson\", \"QuantileRegressionTree\", \"IBugXGBoost\"]\n",
    "\n",
    "NUM_SAMPLES = 100\n",
    "# HYPERS = [\n",
    "#     {\"subsample\": 0.20, \"subsample_freq\": 1, \"verbose\": 1, \"num_leaves\":129, \"learning_rate\":0.5,\n",
    "#      \"sde_manual_hyperparams\": {\"hyperparam_max\": 10}},\n",
    "#     {}\n",
    "# ]\n",
    "\n",
    "results = []\n",
    "for i in range(len(MODEL_CLASSES)):\n",
    "    print(f\"Fitting model {NAMES[i]}\")\n",
    "    model_cls = MODEL_CLASSES[i]\n",
    "    # model = model_cls(**HYPERS[i])\n",
    "    model = model_cls()\n",
    "    model.fit(X_train_np, y_train_np)\n",
    "\n",
    "    results.append({\n",
    "        \"model\": model,\n",
    "        \"model_name\": NAMES[i]\n",
    "    })\n",
    "\n",
    "\n"
   ]
  },
  {
   "cell_type": "code",
   "execution_count": 63,
   "metadata": {
    "ExecuteTime": {
     "end_time": "2024-05-19T06:40:49.890090Z",
     "start_time": "2024-05-19T06:35:17.007904Z"
    }
   },
   "outputs": [
    {
     "name": "stderr",
     "output_type": "stream",
     "text": [
      "/Users/achille/miniconda3/envs/treefuse/lib/python3.11/site-packages/joblib/externals/loky/process_executor.py:752: UserWarning: A worker stopped while some jobs were given to the executor. This can be caused by a too short worker timeout or by a memory leak.\n",
      "  warnings.warn(\n"
     ]
    }
   ],
   "source": [
    "\n",
    "for i, result in enumerate(results):\n",
    "    model = result[\"model\"]\n",
    "    model_name = result[\"model_name\"]\n",
    "    y_samples = model.sample(X_test_np, NUM_SAMPLES)\n",
    "    results[i][\"y_samples\"] = y_samples"
   ]
  },
  {
   "cell_type": "code",
   "outputs": [],
   "source": [
    "# implement the newsvendor utility function\n",
    "\n",
    "def newsvendor_utility(\n",
    "    y_true: Float[Array, \"batch 1\"], quantity_ordered : Float[Array, \"batch 1\"], prices : Float[Array, \"batch 1\"],\n",
    "    stocking_cost: Float[Array, \"batch 1\"]\n",
    "    ) -> Float[Array, \"batch 1\"]:\n",
    "    \"\"\"\n",
    "    The newsvendor utility function with stock q, demand y, selling price p, stocking cost c is given by\n",
    "    U(y, q, p, c) = p * min(y, q) - c * q\n",
    "    \"\"\"\n",
    "    y_true = y_true.flatten()\n",
    "    utility = prices * np.minimum(y_true, quantity_ordered) - stocking_cost * quantity_ordered\n",
    "    return utility\n",
    "\n",
    "def newsvendor_optimal_quantity(y_samples: Float[Array, \"samples batch 1\"], \n",
    "prices: Float[Array, \"batch 1\"], stocking_cost: Float[Array, \"batch 1\"]) -> Float[Array, \"batch 1\"]:\n",
    "    \"\"\"\n",
    "    Returns the optimal quantity to order for the newsvendor problem.\n",
    "    It is given theoeretically by:\n",
    "    q* = argmax_{q} E[U(y, q, p, c)] which has a closed form solution\n",
    "    q* = F^{-1}( (p - c) / p)\n",
    "    where F is the CDF of the demand distribution\n",
    "    \"\"\"\n",
    "    # compute the target quantiles (p - c) / p\n",
    "    target_quantiles = (prices - stocking_cost) / prices\n",
    "    target_quantiles = np.maximum(target_quantiles, 0.0)\n",
    "    \n",
    "    # compute the empirical quantities corresponding to the target quantiles\n",
    "    \n",
    "    res = []\n",
    "    for i in range(y_samples.shape[1]):\n",
    "        optimal_quantities = np.quantile(y_samples[:,i,0], target_quantiles[i])\n",
    "        res.append(optimal_quantities)\n",
    "    optimal_quantities = np.array(res)\n",
    "    return optimal_quantities\n",
    "    \n",
    "    \n",
    "def evaluate_models(results, X_test_df, y_test):\n",
    "    \"\"\"\n",
    "    Evaluates the model on the test data\n",
    "    \"\"\"\n",
    "    prices = X_test_df[\"sell_price\"].values\n",
    "    profit_margin = 0.5\n",
    "    stocking_cost =  prices / (1 + profit_margin)\n",
    "    \n",
    "    \n",
    "    # compute the maximum utility if we had perfect information\n",
    "    perfect_quantities = np.maximum(y_test.flatten(), 0)\n",
    "    perfect_utility = newsvendor_utility(y_test, perfect_quantities, prices, stocking_cost)\n",
    "    print(f\"Knowing the perfect demand would make that much moolah: ${perfect_utility.sum():.2f}\")\n",
    "    \n",
    "    # print all shapes\n",
    "    res_df = pd.DataFrame({\n",
    "        \"day\": X_test_df[\"day\"].values,\n",
    "        \"y_true\": y_test.flatten(),\n",
    "        \"sell_price\": prices,\n",
    "        \"stocking_cost\": stocking_cost,\n",
    "        \"perfect_quantities\": perfect_quantities,\n",
    "    })\n",
    "    \n",
    "    for tmp in results:\n",
    "        model_name = tmp[\"model_name\"]\n",
    "        y_samples = tmp[\"y_samples\"]\n",
    "        optimal_quantities = newsvendor_optimal_quantity(y_samples, prices, stocking_cost)\n",
    "        utility = newsvendor_utility(y_test, optimal_quantities, prices, stocking_cost)\n",
    "        res_df[f\"{model_name}_quantities\"] = optimal_quantities\n",
    "        res_df[f\"{model_name}_utility\"] = utility\n",
    "        print(f\"Model {model_name} makes {utility.sum():.2f} big bucks! {'😊' if utility.sum() > 0 else '😢'}\")\n",
    "        \n",
    "    return res_df\n",
    "    \n",
    "    \n",
    "    "
   ],
   "metadata": {
    "collapsed": false,
    "ExecuteTime": {
     "end_time": "2024-05-19T06:41:53.666136Z",
     "start_time": "2024-05-19T06:41:53.635841Z"
    }
   },
   "execution_count": 68
  },
  {
   "cell_type": "code",
   "outputs": [
    {
     "name": "stdout",
     "output_type": "stream",
     "text": [
      "Knowing the perfect demand would make that much moolah: $13442.67\n",
      "Model Treeffuser makes 1953.06 big bucks! 😊\n",
      "Model NGBoostGaussian makes -315781934.02 big bucks! 😢\n",
      "Model NGBoostPoisson makes 2116.61 big bucks! 😊\n",
      "Model QuantileRegressionTree makes 1362.75 big bucks! 😊\n",
      "Model IBugXGBoost makes -848.90 big bucks! 😢\n"
     ]
    },
    {
     "data": {
      "text/plain": "<Axes: xlabel='day'>"
     },
     "execution_count": 74,
     "metadata": {},
     "output_type": "execute_result"
    },
    {
     "data": {
      "text/plain": "<Figure size 640x480 with 1 Axes>",
      "image/png": "[encoded data removed]"
     },
     "metadata": {},
     "output_type": "display_data"
    }
   ],
   "source": [
    "res_df = evaluate_models(results, X_test_df_sub, y_test_np)\n",
    "\n",
    "# res_df_pivot = res_df.pivot_table(index=\"day\", columns=\"model_name\", values=[\"utility\"], aggfunc=\"sum\")\n",
    "res_df_pivot = res_df.groupby(\"day\").sum()[[f\"{model_name}_utility\" for model_name in NAMES]]\n",
    "# remove NGBoostGaussian\n",
    "res_df_pivot = res_df_pivot.drop(columns=\"NGBoostGaussian_utility\")\n",
    "res_df_pivot = res_df_pivot.sort_index()\n",
    "# cumsum\n",
    "res_df_pivot = res_df_pivot.cumsum()\n",
    "res_df_pivot.plot()\n"
   ],
   "metadata": {
    "collapsed": false,
    "ExecuteTime": {
     "end_time": "2024-05-19T06:43:23.432322Z",
     "start_time": "2024-05-19T06:43:21.991396Z"
    }
   },
   "execution_count": 74
  },
  {
   "cell_type": "markdown",
   "metadata": {},
   "source": [
    "Now we can actually fit some of the models"
   ]
  },
  {
   "cell_type": "code",
   "execution_count": null,
   "metadata": {},
   "outputs": [],
   "source": [
    "ppcs = [max_ppc, zeros] + [partial(quantile_ppc, quantile=q) for q in [0.1, 0.5, 0.9, 0.99]]\n",
    "\n",
    "for i, model_cls in enumerate(MODEL_CLASSES):\n",
    "    ppc_results = get_ppcs(\n",
    "        y_samples=results[i][\"y_samples\"],\n",
    "        X_test=X_test_np,\n",
    "        y_test=y_test_np,\n",
    "        ppcs=ppcs,\n",
    "        number=i,\n",
    "        name=model_cls.__name__\n",
    "    )\n",
    "    results[i][\"ppc_results\"] = ppc_results\n"
   ]
  },
  {
   "cell_type": "markdown",
   "metadata": {},
   "source": [
    "# Plot the PPCs"
   ]
  },
  {
   "cell_type": "code",
   "execution_count": null,
   "metadata": {},
   "outputs": [],
   "source": [
    "def proc_title(title):\n",
    "    x = title.replace(\"_\", \" \").capitalize()\n",
    "    x = x.replace(\"ppc\", \"PPC\")\n",
    "    return x\n",
    "\n",
    "ppc_number = len(ppcs)\n",
    "ppc_names = results[0][\"ppc_results\"].keys()\n",
    "\n",
    "for ppc_name in ppc_names:\n",
    "    fig, ax = plt.subplots()\n",
    "    for i, res in enumerate(results):\n",
    "        model_name = res[\"model_name\"]\n",
    "        samples = res[\"ppc_results\"][ppc_name][\"samples\"]\n",
    "        # make int\n",
    "        samples = np.maximum(samples, 0)\n",
    "        samples =  np.round(samples)\n",
    "        true = res[\"ppc_results\"][ppc_name][\"true\"]\n",
    "        n_unique_samples = len(np.unique(samples))\n",
    "        discrete = n_unique_samples < 20\n",
    "\n",
    "        # plot a histogram of the samples but with integers\n",
    "        sns.histplot(samples, ax=ax, label=f\"{model_name} samples\", discrete=discrete, stat=\"density\")\n",
    "        ax.axvline(true, color=\"red\", label=\"true\")\n",
    "        ax.set_title(proc_title(f\"{ppc_name}\"))\n",
    "        ax.legend()\n",
    "\n",
    "        if n_unique_samples < 2:\n",
    "            min_val = np.min(samples) - 1\n",
    "            max_val = np.max(samples) + 1\n",
    "\n",
    "            ax.set_xlim(min_val, max_val)\n",
    "\n",
    "        max_x = true * 5\n",
    "        max_samples = np.max(samples)\n",
    "        if max_samples > max_x:\n",
    "            ax.set_xlim(0, max_x)\n",
    "\n",
    "\n",
    "    plt.show()\n",
    "\n",
    "\n",
    "\n"
   ]
  },
  {
   "cell_type": "code",
   "execution_count": null,
   "metadata": {},
   "outputs": [],
   "source": [
    "np.random.seed(0)\n",
    "\n",
    "NUM_PRODS_TO_PLOT = 3\n",
    "DAYS_TO_PLOT = 10\n",
    "QUATILE = 0.9\n",
    "NUM_SAMPLES = 100\n",
    "\n",
    "prods_to_plot = np.random.choice(range(len(X_train_prod_processed)), NUM_PRODS_TO_PLOT)\n",
    "\n",
    "means_to_plot = []\n",
    "lower_q_s = []\n",
    "upper_q_s = []\n",
    "\n",
    "prod_dict = {}\n",
    "\n",
    "for res in results:\n",
    "    model = res[\"model\"]\n",
    "\n",
    "    for i in prods_to_plot:\n",
    "        if i not in prod_dict:\n",
    "            prod_dict[i] = {\n",
    "                \"means_to_plot\": [],\n",
    "                \"lower_q_s\": [],\n",
    "                \"upper_q_s\": [],\n",
    "                \"samples\": []\n",
    "            }\n",
    "\n",
    "        X_prod_proc_i = X_train_prod_processed[i][-DAYS_TO_PLOT:]\n",
    "        y_prod_proc_i = y_train_prod[i][-DAYS_TO_PLOT:]\n",
    "\n",
    "        samples = model.sample(X_prod_proc_i.values, NUM_SAMPLES)\n",
    "        samples = samples.astype(int)\n",
    "        samples = np.maximum(samples, 0)\n",
    "\n",
    "        means = np.mean(samples, axis=0)\n",
    "        lower_q = np.quantile(samples, 1-QUATILE, axis=0)\n",
    "        upper_q = np.quantile(samples, QUATILE, axis=0)\n",
    "\n",
    "        prod_dict[i][\"means_to_plot\"].append(means)\n",
    "        prod_dict[i][\"lower_q_s\"].append(lower_q)\n",
    "        prod_dict[i][\"upper_q_s\"].append(upper_q)\n",
    "        prod_dict[i][\"samples\"].append(samples)\n",
    "\n",
    "for i in prod_dict:\n",
    "    means_to_plot = np.array(prod_dict[i][\"means_to_plot\"]).squeeze()\n",
    "    lower_q_s = np.array(prod_dict[i][\"lower_q_s\"]).squeeze()\n",
    "    upper_q_s = np.array(prod_dict[i][\"upper_q_s\"]).squeeze()\n",
    "    samples = np.array(prod_dict[i][\"samples\"]).squeeze()\n",
    "    y_true = np.array(y_train_prod[i][-DAYS_TO_PLOT:])\n",
    "\n",
    "    model_names = [res[\"model\"].__class__.__name__ for res in results]\n",
    "\n",
    "    print(\"mean shape\", means_to_plot.shape)\n",
    "    print(\"lower shape\", lower_q_s.shape)\n",
    "    print(\"upper shape\", upper_q_s.shape)\n",
    "    print(\"y_true shape\", y_true.shape)\n",
    "    print(\"samples shape\", samples.shape)\n",
    "\n",
    "    #plot_predictions(y_true, means_to_plot, upper_q_s, lower_q_s, [res[\"model\"].__class__.__name__ for res in results])\n",
    "    plot_model_comparisons(samples, y_true, model_names=model_names)\n"
   ]
  },
  {
   "cell_type": "markdown",
   "metadata": {},
   "source": [
    "# Log-likelihood"
   ]
  },
  {
   "cell_type": "code",
   "execution_count": null,
   "metadata": {},
   "outputs": [],
   "source": [
    "for res in results:\n",
    "    model = res[\"model\"]\n",
    "    nll = LogLikelihoodFromSamplesMetric(n_samples=100).compute(model=model, X_test=X_test_np, y_test=y_test_np, samples=res[\"y_samples\"])\n",
    "    print(f\"Model {model.__class__.__name__} has a NLL of {nll}\")"
   ]
  },
  {
   "cell_type": "markdown",
   "metadata": {},
   "source": [
    "# Plot calibration plot"
   ]
  },
  {
   "cell_type": "code",
   "execution_count": null,
   "metadata": {},
   "outputs": [],
   "source": [
    "def calibration_plot(y_samples: Float[np.ndarray, \"n_samples batch y_dim\"], y_test: Float[np.ndarray, \"batch y_dim\"]) -> None:\n",
    "    \"\"\"\n",
    "    We will plot the calibration plot for the model. Essentially, we will plot the\n",
    "    \"\"\"\n",
    "    assert y_test.shape[1] == 1, \"Only works for univariate outputs\"\n",
    "    n_samples = y_samples.shape[0]\n",
    "    y_samples = np.maximum(y_samples, 0.0)\n",
    "    y_samples = np.round(y_samples).astype(int)\n",
    "    y_test = y_test.astype(int)\n",
    "\n",
    "    # Filter out the zeros\n",
    "    #non_zero_idx = y_test > 0\n",
    "    #y_test = y_test[non_zero_idx]\n",
    "    #y_samples = y_samples[:, non_zero_idx]\n",
    "\n",
    "    y_test_expanded = y_test[np.newaxis, :].repeat(n_samples, axis=0)\n",
    "    prob_of_event = np.mean(y_samples <= y_test_expanded, axis=0)\n",
    "    prob_of_event_sorted = np.sort(prob_of_event.flatten())\n",
    "    return np.linspace(0, 1, len(prob_of_event)), prob_of_event_sorted\n",
    "\n",
    "\n",
    "\n",
    "\n",
    "\n",
    "\n",
    "\n",
    "\n"
   ]
  },
  {
   "cell_type": "code",
   "execution_count": null,
   "metadata": {},
   "outputs": [],
   "source": [
    "y_ex = None\n",
    "for res in results:\n",
    "    samples = res[\"y_samples\"]\n",
    "    model = res[\"model\"]\n",
    "    x,y = calibration_plot(samples, y_test_np)\n",
    "    plt.plot(x, y, label=model.__class__.__name__)\n",
    "    y_ex = y\n",
    "\n",
    "\n",
    "plt.plot([0, 1], [0, 1], linestyle=\"--\", color=\"black\")\n",
    "\n",
    "plt.xlabel(\"Predicted Probability\")\n",
    "plt.ylabel(\"True Probability\")\n",
    "plt.legend()\n",
    "\n",
    "plt.show()\n",
    "\n",
    "# plot the distribution of y\n",
    "\n",
    "sns.histplot(y_ex, bins=20)"
   ]
  },
  {
   "cell_type": "code",
   "execution_count": null,
   "metadata": {},
   "outputs": [],
   "source": []
  },
  {
   "cell_type": "code",
   "execution_count": null,
   "metadata": {},
   "outputs": [],
   "source": []
  }
 ],
 "metadata": {
  "kernelspec": {
   "display_name": ".venv",
   "language": "python",
   "name": "python3"
  },
  "language_info": {
   "codemirror_mode": {
    "name": "ipython",
    "version": 3
   },
   "file_extension": ".py",
   "mimetype": "text/x-python",
   "name": "python",
   "nbconvert_exporter": "python",
   "pygments_lexer": "ipython3",
   "version": "3.11.8"
  }
 },
 "nbformat": 4,
 "nbformat_minor": 2
}
